{
 "cells": [
  {
   "cell_type": "markdown",
   "metadata": {},
   "source": [
    "# Ejercicio - Crear un paquete"
   ]
  },
  {
   "cell_type": "markdown",
   "metadata": {},
   "source": [
    "En este ejercicio, aprenderemos a utilizar entornos virtuales como una forma para no afectar a los paquetes instalados globalmente u otros programas que se ejecutan en tu máquina."
   ]
  },
  {
   "cell_type": "markdown",
   "metadata": {},
   "source": [
    "# Crear un entorno virtual"
   ]
  },
  {
   "cell_type": "markdown",
   "metadata": {},
   "source": [
    "En este caso el procedimiento corresponde a Windows."
   ]
  },
  {
   "cell_type": "markdown",
   "metadata": {},
   "source": [
    "Abrimos cmd con el siguiente atajo teclas ``Windows + R`` nos mostrara una ventana como la siguiente:  \n",
    "Solo bastará ingresar ``cmd`` y dar click en ``OK``. "
   ]
  },
  {
   "cell_type": "markdown",
   "metadata": {},
   "source": [
    "![CMD](https://i.ibb.co/pRY7xdy/CMD.jpg)"
   ]
  },
  {
   "cell_type": "markdown",
   "metadata": {},
   "source": [
    "Ahora en la consola vamos a crear un entorno virtual mediante ``venv``"
   ]
  },
  {
   "cell_type": "markdown",
   "metadata": {},
   "source": [
    "+ Ejecutamos en la terminal: ``python -m venv env`` (Los comandos pueden variar de acuerdo al SO y versión del mismo)"
   ]
  },
  {
   "cell_type": "markdown",
   "metadata": {},
   "source": [
    "![Comando venv](https://i.ibb.co/gS5bsNK/CMD-3.jpg)"
   ]
  },
  {
   "cell_type": "markdown",
   "metadata": {},
   "source": [
    "+ Ahora tenemos un directorio (folder) env creado en nuestra terminal.  \n",
    "\n",
    "\n",
    "![Entorno](https://i.ibb.co/zQgjQcZ/CMD-4.jpg)"
   ]
  },
  {
   "cell_type": "markdown",
   "metadata": {},
   "source": [
    "+ Ejecutamos el comando para activar el entorno virtual: ``env\\Scripts\\activate``  \n",
    "Notaremos que se ha activado debido a que aparece en el encabezado (env)"
   ]
  },
  {
   "cell_type": "markdown",
   "metadata": {},
   "source": [
    "![Activacion del env](https://i.ibb.co/BV7w0WK/CMD-5.jpg)"
   ]
  },
  {
   "cell_type": "markdown",
   "metadata": {},
   "source": [
    "## Instalar una biblioteca."
   ]
  },
  {
   "cell_type": "markdown",
   "metadata": {},
   "source": [
    "Ahora que estamos dentro de tu entorno virtual, podemos instalar una biblioteca y saber que la biblioteca solo existirá en el entorno virtual.\n",
    "+ Ejecutamos el comando ``pip freeze`` para ver las bibliotecas instaladas en el entorno:"
   ]
  },
  {
   "cell_type": "markdown",
   "metadata": {},
   "source": [
    "![Ejecucion del comando freeze](https://i.ibb.co/vXVZm9j/CMD-6.jpg)"
   ]
  },
  {
   "cell_type": "markdown",
   "metadata": {},
   "source": [
    "No obtenemos respuesta. A continuación, veamos cómo cambia la salida de pip freeze cuando se agrega una biblioteca (un paquete)."
   ]
  },
  {
   "cell_type": "markdown",
   "metadata": {},
   "source": [
    "+ Ejecutamos el comando ``pip install`` para instalar una biblioteca:"
   ]
  },
  {
   "cell_type": "markdown",
   "metadata": {},
   "source": [
    "![Instalacion de la Biblioteca](https://i.ibb.co/KKCdb9t/CMD-7.jpg)"
   ]
  },
  {
   "cell_type": "markdown",
   "metadata": {},
   "source": [
    "+ Sabremos que el comando tuvo exito, si observamos el siguiente mensaje al final del parrafo en la terminal.  \n",
    "Successfully installed python-dateutil-2.8.2 six-1.16.0"
   ]
  },
  {
   "cell_type": "markdown",
   "metadata": {},
   "source": [
    "Ahora:\n",
    "+ Volvemos a ejecutar ``pip freeze`` para ver cómo ha cambiado la lista de bibliotecas.  \n",
    "Debe mostrar una lista con los siguiente elementos:  \n",
    "``python-dateutil==2.8.2``  \n",
    "``six==1.16.0``\n",
    "+ Finalmente desactivamos nuestro entorno virtual."
   ]
  },
  {
   "cell_type": "markdown",
   "metadata": {},
   "source": [
    "![Actualizacion biblioteca y desactivación del entorno](https://i.ibb.co/JKSgwNY/CMD-8.jpg)"
   ]
  },
  {
   "cell_type": "markdown",
   "metadata": {},
   "source": [
    "Sabremos que hemos desactivado el entorno, debido a que no aparece en el inicio de la linea ``(env)``.  \n",
    "Hemos logrado crear y usar correctamente un entorno virtual..."
   ]
  }
 ],
 "metadata": {
  "interpreter": {
   "hash": "bfb0031bea809bc9b72d781f457a11d5061eebf910e4b02b19e11204d7edcf59"
  },
  "kernelspec": {
   "display_name": "Python 3.10.1 64-bit",
   "language": "python",
   "name": "python3"
  },
  "language_info": {
   "codemirror_mode": {
    "name": "ipython",
    "version": 3
   },
   "file_extension": ".py",
   "mimetype": "text/x-python",
   "name": "python",
   "nbconvert_exporter": "python",
   "pygments_lexer": "ipython3",
   "version": "3.10.1"
  },
  "orig_nbformat": 4
 },
 "nbformat": 4,
 "nbformat_minor": 2
}
