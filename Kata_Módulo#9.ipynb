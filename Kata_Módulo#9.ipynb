{
  "cells": [
    {
      "cell_type": "markdown",
      "metadata": {},
      "source": [
        "# Ejercicio: Uso de funciones en Python"
      ]
    },
    {
      "cell_type": "markdown",
      "metadata": {},
      "source": [
        "### Ejercicio 1: Trabajar con argumentos en funciones\n",
        "\n",
        "Los argumentos requeridos en las funciones se utilizan cuando las funciones necesitan que esos argumentos funcionen correctamente. En este ejercicio, construirás un informe de combustible que requiere información de varias ubicaciones de combustible en todo el cohete.\n",
        "\n"
      ]
    },
    {
      "cell_type": "markdown",
      "metadata": {},
      "source": [
        "> **TIP**\n",
        "> Dedica unos minutos para tratar de encontrar una solución. Luego desplázate hacia abajo hasta la parte inferior para ver si has logrado compilar el programa de acuerdo con las especificaciones\n",
        "\n",
        "Comienza por crear una función que necesite tres lecturas de combustible y devuelva un informe:"
      ]
    },
    {
      "cell_type": "code",
      "execution_count": 8,
      "metadata": {},
      "outputs": [],
      "source": [
        "def informe(t1,t2,t3):\n",
        "    promedio = (t1+t2+t3)/3\n",
        "    return promedio\n",
        "\n",
        "# Función para leer 3 tanques de combustible y muestre el promedio\n"
      ]
    },
    {
      "cell_type": "markdown",
      "metadata": {},
      "source": [
        "Ahora que hemos definido la función de informes, vamos a comprobarlo. Para esta misión, los tanques no están llenos:"
      ]
    },
    {
      "cell_type": "code",
      "execution_count": 9,
      "metadata": {},
      "outputs": [
        {
          "name": "stdout",
          "output_type": "stream",
          "text": [
            "10.0\n"
          ]
        }
      ],
      "source": [
        "print(informe(10,10,10))"
      ]
    },
    {
      "cell_type": "markdown",
      "metadata": {},
      "source": [
        "En lugar de simplemente crear el informe, la función también está calculando el promedio. Mejora la legibilidad extrayendo el cálculo promedio de la función en una nueva función para que el promedio se pueda hacer de forma independiente:"
      ]
    },
    {
      "cell_type": "code",
      "execution_count": null,
      "metadata": {},
      "outputs": [],
      "source": [
        "\n",
        "def promedio(val):\n",
        "    promedio = sum(val) / len(val)\n",
        "    return promedio"
      ]
    },
    {
      "cell_type": "code",
      "execution_count": 14,
      "metadata": {},
      "outputs": [
        {
          "data": {
            "text/plain": [
              "20.0"
            ]
          },
          "execution_count": 14,
          "metadata": {},
          "output_type": "execute_result"
        }
      ],
      "source": [
        "promedio([20,20,20])"
      ]
    },
    {
      "cell_type": "markdown",
      "metadata": {},
      "source": [
        "Ahora actualiza la función de informes para llamando a la nueva función del promedio:\n"
      ]
    },
    {
      "cell_type": "code",
      "execution_count": 29,
      "metadata": {},
      "outputs": [],
      "source": [
        "def informe(t1,t2,t3):\n",
        "    inf = f'''Nuestra nave tiene en promedio: {promedio([t1,t2,t3])} %\n",
        "    En el tanque 1 nuestro combustible es: {t1}%\n",
        "    En el tanque 2 nuestro combustible es: {t2}%\n",
        "    En el tanque 3 nuestro combustible es: {t2}%\n",
        "    '''\n",
        "    return print(inf)"
      ]
    },
    {
      "cell_type": "code",
      "execution_count": 30,
      "metadata": {},
      "outputs": [
        {
          "name": "stdout",
          "output_type": "stream",
          "text": [
            "Nuestra nave tiene en promedio: 10.0 %\n",
            "    En el tanque 1 nuestro combustible es: 10%\n",
            "    En el tanque 2 nuestro combustible es: 10%\n",
            "    En el tanque 3 nuestro combustible es: 10%\n",
            "    \n"
          ]
        }
      ],
      "source": [
        "informe(10,10,10)"
      ]
    },
    {
      "cell_type": "markdown",
      "metadata": {},
      "source": [
        "## Ejercicio 2: Trabajo con argumentos de palabra clave"
      ]
    },
    {
      "cell_type": "markdown",
      "metadata": {},
      "source": [
        "### Ejercicio : Trabajar con argumentos de palabras clave en funciones\n",
        "En este ejercicio, construirás un informe de cohete que requiere varias piezas de información, como el tiempo hasta el destino, el combustible a la izquierda y el nombre del destino. Comienza por crear una función que creará un informe preciso de la misión:"
      ]
    },
    {
      "cell_type": "code",
      "execution_count": 33,
      "metadata": {},
      "outputs": [],
      "source": [
        "def informe_pro(time_prelaunch, time_flight, dest, tank_ext, tank_int):\n",
        "    inf = f''' Hora de prelanzamiento: {time_prelaunch}\n",
        "    Tiempo de vuelo: {time_flight} min\n",
        "    Destino: {dest}\n",
        "    Combustible externo: {tank_ext}\n",
        "    Combustible interno: {tank_int}\n",
        "    '''\n",
        "    return print(inf)\n",
        "# Función con un informe preciso de la misión. Considera hora de prelanzamiento, tiempo de vuelo, destino, tanque externo y tanque interno"
      ]
    },
    {
      "cell_type": "markdown",
      "metadata": {},
      "source": [
        "La función es problemática porque no se puede adaptar para minutos adicionales o tanques adicionales de combustible. Hazlo más flexible permitiendo cualquier número de pasos basados en el tiempo y cualquier número de tanques. En lugar de usar `*args` y `**kwargs`, aprovecha el hecho de que puedes usar cualquier nombre que desees. Asegurate que la función sea más legible mediante el uso de nombres de variables que están asociados con las entradas, como `*minutes` y `**fuel_reservoirs`:"
      ]
    },
    {
      "cell_type": "code",
      "execution_count": 39,
      "metadata": {},
      "outputs": [],
      "source": [
        "def informe_pro(dest, *min, **fuel_reservoirs):\n",
        "    inf = f''' Destino: {dest}\n",
        "    Tiempo de vuelo: {sum(min)} min\n",
        "    Combustible total restante: {sum(fuel_reservoirs.values())}\n",
        "    '''\n",
        "    return print(inf)"
      ]
    },
    {
      "cell_type": "code",
      "execution_count": 40,
      "metadata": {},
      "outputs": [
        {
          "name": "stdout",
          "output_type": "stream",
          "text": [
            " Destino: Luna\n",
            "    Tiempo de vuelo: 30 min\n",
            "    Combustible total restante: 200\n",
            "    \n"
          ]
        }
      ],
      "source": [
        "informe_pro('Luna', 10, 10, 10, combus_ext=100, combus_int=100)"
      ]
    },
    {
      "cell_type": "markdown",
      "metadata": {},
      "source": [
        "Debido a que el combustible que queda en los tanques es específico de cada tanque, actualiza la función para usar el nombre de cada tanque en el informe:"
      ]
    },
    {
      "cell_type": "code",
      "execution_count": 44,
      "metadata": {},
      "outputs": [],
      "source": [
        "def informe_pro(dest, *min, **fuel_reservoirs):\n",
        "    inf = f''' Destino: {dest}\n",
        "    Tiempo de vuelo: {sum(min)} min\n",
        "    Combustible total tanque 1 es de: {fuel_reservoirs['combus_ext']}\n",
        "    Combustible total tanque 2 es de: {fuel_reservoirs['combus_int']}\n",
        "    '''\n",
        "    return print(inf)"
      ]
    },
    {
      "cell_type": "code",
      "execution_count": 45,
      "metadata": {},
      "outputs": [
        {
          "name": "stdout",
          "output_type": "stream",
          "text": [
            " Destino: Luna\n",
            "    Tiempo de vuelo: 30 min\n",
            "    Combustible total tanque 1 es de: 100\n",
            "    Combustible total tanque 2 es de: 90\n",
            "    \n"
          ]
        }
      ],
      "source": [
        "informe_pro('Luna', 10, 10, 10, combus_ext=100, combus_int=90)"
      ]
    }
  ],
  "metadata": {
    "interpreter": {
      "hash": "205095b8b86ea82a021a8fc2ffba2b3bc9f8d0be25999901963b225939f75778"
    },
    "kernelspec": {
      "display_name": "Python 3.8.10 64-bit ('tmp': conda)",
      "name": "python3"
    },
    "language_info": {
      "codemirror_mode": {
        "name": "ipython",
        "version": 3
      },
      "file_extension": ".py",
      "mimetype": "text/x-python",
      "name": "python",
      "nbconvert_exporter": "python",
      "pygments_lexer": "ipython3",
      "version": "3.10.1"
    },
    "nteract": {
      "version": "nteract-front-end@1.0.0"
    },
    "orig_nbformat": 4
  },
  "nbformat": 4,
  "nbformat_minor": 2
}
